{
 "cells": [
  {
   "cell_type": "code",
   "execution_count": 1,
   "id": "2fe35bd3",
   "metadata": {},
   "outputs": [],
   "source": [
    "import numpy\n",
    "import pandas \n",
    "from matplotlib import pyplot\n",
    "import sklearn\n",
    "import seaborn\n",
    "import datetime"
   ]
  },
  {
   "cell_type": "code",
   "execution_count": 2,
   "id": "6798fad0",
   "metadata": {},
   "outputs": [],
   "source": [
    "imdb_data = pandas.read_csv(\n",
    "    './data/IMDB/IMDB_dataset.csv',\n",
    "    delimiter=',',\n",
    "    nrows=None\n",
    ")"
   ]
  },
  {
   "cell_type": "code",
   "execution_count": 3,
   "id": "217eed1c",
   "metadata": {},
   "outputs": [
    {
     "data": {
      "text/plain": [
       "50000"
      ]
     },
     "execution_count": 3,
     "metadata": {},
     "output_type": "execute_result"
    }
   ],
   "source": [
    "len(imdb_data)"
   ]
  },
  {
   "cell_type": "code",
   "execution_count": 4,
   "id": "5171c129",
   "metadata": {},
   "outputs": [],
   "source": [
    "imdb = imdb_data[['review','sentiment']].sample(n=1000, random_state=0)\n",
    "imdb.to_csv('./data/IMDB/sample_IMDB_dataset.csv', index=False)"
   ]
  },
  {
   "cell_type": "code",
   "execution_count": 5,
   "id": "dbdf4d97",
   "metadata": {},
   "outputs": [
    {
     "data": {
      "text/plain": [
       "Index(['review', 'sentiment'], dtype='object')"
      ]
     },
     "execution_count": 5,
     "metadata": {},
     "output_type": "execute_result"
    }
   ],
   "source": [
    "imdb.columns"
   ]
  },
  {
   "cell_type": "code",
   "execution_count": 6,
   "id": "7b9435be",
   "metadata": {},
   "outputs": [
    {
     "data": {
      "text/plain": [
       "sentiment\n",
       "negative    511\n",
       "positive    489\n",
       "Name: count, dtype: int64"
      ]
     },
     "execution_count": 6,
     "metadata": {},
     "output_type": "execute_result"
    }
   ],
   "source": [
    "imdb['sentiment'].value_counts()"
   ]
  },
  {
   "cell_type": "markdown",
   "id": "aa65bd3f",
   "metadata": {},
   "source": [
    "### OBS: no neutral sentiment"
   ]
  },
  {
   "cell_type": "code",
   "execution_count": 7,
   "id": "4cbdd272",
   "metadata": {},
   "outputs": [],
   "source": [
    "from sklearn import model_selection"
   ]
  },
  {
   "cell_type": "code",
   "execution_count": 8,
   "id": "948e05c9",
   "metadata": {},
   "outputs": [],
   "source": [
    "fullData: pandas.DataFrame = imdb[\"review\"] #.values\n",
    "fullLabels: pandas.Series = imdb[\"sentiment\"] #.values"
   ]
  },
  {
   "cell_type": "code",
   "execution_count": 9,
   "id": "c3b97846",
   "metadata": {},
   "outputs": [
    {
     "data": {
      "text/plain": [
       "11841    John Cassavetes is on the run from the law. He...\n",
       "19602    It's not just that the movie is lame. It's mor...\n",
       "45519    Well, if it weren't for Ethel Waters and a 7-y...\n",
       "25747    I find Alan Jacobs review very accurate concer...\n",
       "42642    This movie is simply awesome. It is so hilario...\n",
       "                               ...                        \n",
       "46754    Wow! Fantastic film in my opinion, i wasn't ex...\n",
       "11830    <br /><br />This movie really has nothing goin...\n",
       "27232    What is there to say about an anti-establishme...\n",
       "24445    This excellent series, narrated by Laurence Ol...\n",
       "27336    It's hard to write 10 lines of copy about this...\n",
       "Name: review, Length: 1000, dtype: object"
      ]
     },
     "execution_count": 9,
     "metadata": {},
     "output_type": "execute_result"
    }
   ],
   "source": [
    "fullData"
   ]
  },
  {
   "cell_type": "code",
   "execution_count": 10,
   "id": "b06293df",
   "metadata": {},
   "outputs": [
    {
     "data": {
      "text/plain": [
       "11841    positive\n",
       "19602    negative\n",
       "45519    negative\n",
       "25747    positive\n",
       "42642    positive\n",
       "           ...   \n",
       "46754    positive\n",
       "11830    negative\n",
       "27232    positive\n",
       "24445    positive\n",
       "27336    negative\n",
       "Name: sentiment, Length: 1000, dtype: object"
      ]
     },
     "execution_count": 10,
     "metadata": {},
     "output_type": "execute_result"
    }
   ],
   "source": [
    "fullLabels"
   ]
  },
  {
   "cell_type": "code",
   "execution_count": 11,
   "id": "60edac6c",
   "metadata": {},
   "outputs": [],
   "source": [
    "X_train, y_train, X_test, y_test = model_selection.train_test_split(\n",
    "    fullData,\n",
    "    fullLabels,\n",
    "    test_size=0.25,\n",
    "    random_state=42,\n",
    "    stratify=fullLabels\n",
    ")"
   ]
  },
  {
   "cell_type": "code",
   "execution_count": 12,
   "id": "57be6d70",
   "metadata": {},
   "outputs": [],
   "source": [
    "from types import SimpleNamespace\n",
    "X = SimpleNamespace(train=X_train, labels=X_test)\n",
    "y = SimpleNamespace(train=y_train, labels=y_test)"
   ]
  },
  {
   "cell_type": "code",
   "execution_count": 13,
   "id": "2a9ed10e",
   "metadata": {},
   "outputs": [],
   "source": [
    "import re; # Support for regular expressions (RE)\n",
    "from autocorrect import Speller\n",
    "\n",
    "# The Natural Language Toolkit (NLTK) is an open \n",
    "# source Python library for Natural Language Processing\n",
    "import nltk\n",
    "from nltk import tokenize # word_tokenize\n",
    "from nltk import stem # WordNetLemmatizer"
   ]
  },
  {
   "cell_type": "code",
   "execution_count": 14,
   "id": "de8f0078",
   "metadata": {},
   "outputs": [
    {
     "name": "stderr",
     "output_type": "stream",
     "text": [
      "[nltk_data] Downloading package punkt to\n",
      "[nltk_data]     /Users/naveen1.mathur/nltk_data...\n",
      "[nltk_data]   Package punkt is already up-to-date!\n",
      "[nltk_data] Downloading package wordnet to\n",
      "[nltk_data]     /Users/naveen1.mathur/nltk_data...\n",
      "[nltk_data]   Package wordnet is already up-to-date!\n"
     ]
    }
   ],
   "source": [
    "# Download required NLTK data\n",
    "# nltk.download('punkt_tab')\n",
    "nltk.download('punkt')\n",
    "nltk.download('wordnet')\n",
    "\n",
    "spellings = Speller(lang='en')\n",
    "lemmatizer = nltk.WordNetLemmatizer()"
   ]
  },
  {
   "cell_type": "code",
   "execution_count": 15,
   "id": "1f115a56",
   "metadata": {},
   "outputs": [
    {
     "name": "stdout",
     "output_type": "stream",
     "text": [
      "<autocorrect.Speller object at 0x325867fd0>\n"
     ]
    }
   ],
   "source": [
    "print(spellings)"
   ]
  },
  {
   "cell_type": "code",
   "execution_count": 16,
   "id": "7196f19c",
   "metadata": {},
   "outputs": [],
   "source": [
    "class PreprocessDataStrategy:\n",
    "    def __init__(self, data):\n",
    "        self._X = data.train;\n",
    "        self._y = data.labels;\n",
    "        \n",
    "    def textPreprocess(self, text: str) -> str:\n",
    "        new_text = text.strip() # to remove leading and trailing spaces\n",
    "        rm_numbers_from_text = re.sub(r'[0-9]', '', new_text).strip()\n",
    "        text_to_lowercase = rm_numbers_from_text.lower().strip()\n",
    "        # Removing hashtags and mentions\n",
    "        rm_mentions_from_text = re.sub(\"@[A-Za-z0-9_]+\",\"\", text_to_lowercase).strip()\n",
    "        rm_hastags_from_text = re.sub(\"#[A-Za-z0-9_]+\",\"\", rm_mentions_from_text).strip()\n",
    "        # Removing links\n",
    "        rm_links_from_text1 = re.sub(r\"http\\S+\", \"\", rm_hastags_from_text).strip()\n",
    "        # \\S = non-whitespace character\n",
    "        rm_links_from_text = re.sub(r\"www.\\S+\", \"\", rm_links_from_text1).strip()\n",
    "        # removing tags like <br> and <p> \n",
    "        rm_tags_from_text = re.sub(r\"<.*?>\", \"\", rm_links_from_text).strip()\n",
    "        # Removing '\n",
    "        final_text = re.sub(\"'\", '', rm_tags_from_text).strip()\n",
    "        rm_spaces_from_text = re.sub(r'\\s+', ' ', final_text).strip()\n",
    "        # return rm_spaces_from_text;\n",
    "        text_tokenization = tokenize.word_tokenize(rm_spaces_from_text)\n",
    "        text_correction = [spellings(token) for token in text_tokenization]\n",
    "        # lemmatization means to reduce a word to its base or root form\n",
    "        # e.g., \"running\" becomes \"run\", \"better\" becomes \"good\"\n",
    "        text_lemmatization = [\n",
    "            lemmatizer.lemmatize(token) for token in text_correction\n",
    "        ]\n",
    "        final_data = [token for token in text_lemmatization if len(token) > 1]\n",
    "        return \" \".join(final_data)\n",
    "    \n",
    "    def preProcessTestingData(self) -> None:\n",
    "        self._X = self._X.astype(str).apply(self.textPreprocess)\n",
    "    \n",
    "    def preProcessLabelsData(self) -> None:\n",
    "        self._y = self._y.astype(str).str.lower().str.strip()\n",
    "            \n",
    "    @property\n",
    "    def X(self) -> pandas.DataFrame:\n",
    "        self.preProcessTestingData()\n",
    "        return self._X\n",
    "    \n",
    "    @property\n",
    "    def y(self) -> pandas.DataFrame:\n",
    "        self.preProcessLabelsData()\n",
    "        return self._y"
   ]
  },
  {
   "cell_type": "code",
   "execution_count": 17,
   "id": "807a54c8",
   "metadata": {},
   "outputs": [],
   "source": [
    "trainData = PreprocessDataStrategy(X)\n",
    "testData = PreprocessDataStrategy(y)"
   ]
  },
  {
   "cell_type": "code",
   "execution_count": 18,
   "id": "577c7696",
   "metadata": {},
   "outputs": [],
   "source": [
    "tokenize_X_data = trainData.X"
   ]
  },
  {
   "cell_type": "code",
   "execution_count": 19,
   "id": "50d7bd22",
   "metadata": {},
   "outputs": [
    {
     "data": {
      "text/plain": [
       "34129    ill come clean the only reason even found out ...\n",
       "9393     moon and girlfriend conduct some ritual to res...\n",
       "19705    think dark angel is great first season wa exce...\n",
       "18318    have heard an awful lot about the english pati...\n",
       "15029    bromwell high is cartoon comedy it ran at the ...\n",
       "                               ...                        \n",
       "15009    if youve ever had mad week-end out with your m...\n",
       "11173    just got back from the european premiere of th...\n",
       "49421    the plot four people are caught in an elevator...\n",
       "49677    the third puppet movie is perhaps the most rel...\n",
       "38456    when started watching this instantly noticed t...\n",
       "Name: review, Length: 750, dtype: object"
      ]
     },
     "execution_count": 19,
     "metadata": {},
     "output_type": "execute_result"
    }
   ],
   "source": [
    "tokenize_X_data"
   ]
  },
  {
   "cell_type": "code",
   "execution_count": 20,
   "id": "1c1a7224",
   "metadata": {},
   "outputs": [
    {
     "name": "stdout",
     "output_type": "stream",
     "text": [
      "<class 'pandas.core.series.Series'>\n"
     ]
    },
    {
     "data": {
      "text/plain": [
       "750"
      ]
     },
     "execution_count": 20,
     "metadata": {},
     "output_type": "execute_result"
    }
   ],
   "source": [
    "print(type(tokenize_X_data))\n",
    "len(tokenize_X_data)"
   ]
  },
  {
   "attachments": {
    "image.png": {
     "image/png": "[encoded data removed]"
    }
   },
   "cell_type": "markdown",
   "id": "3ae7869e",
   "metadata": {},
   "source": [
    "#### word embeddings\n",
    "![image.png](attachment:image.png)"
   ]
  },
  {
   "cell_type": "markdown",
   "id": "09cbc88d",
   "metadata": {},
   "source": [
    "#### https://nlp.stanford.edu/projects/glove/\n"
   ]
  },
  {
   "cell_type": "code",
   "execution_count": 21,
   "id": "45af2128",
   "metadata": {},
   "outputs": [
    {
     "name": "stderr",
     "output_type": "stream",
     "text": [
      "/Users/naveen1.mathur/Desktop/x/sftc/_learning/ml/mlp/ml-projects/_env_04_SENTIMENT_ANALYSIS/lib/python3.9/site-packages/tqdm/auto.py:21: TqdmWarning: IProgress not found. Please update jupyter and ipywidgets. See https://ipywidgets.readthedocs.io/en/stable/user_install.html\n",
      "  from .autonotebook import tqdm as notebook_tqdm\n"
     ]
    }
   ],
   "source": [
    "import transformers\n",
    "from sentence_transformers import SentenceTransformer"
   ]
  },
  {
   "cell_type": "code",
   "execution_count": 22,
   "id": "2cc725de",
   "metadata": {},
   "outputs": [],
   "source": [
    "model = SentenceTransformer('sentence-transformers/all-MiniLM-L6-v2')"
   ]
  },
  {
   "cell_type": "code",
   "execution_count": 23,
   "id": "e8c277c7",
   "metadata": {},
   "outputs": [],
   "source": [
    "sentences = [\"analysis\", \"analytics\"]\n",
    "embeddings = model.encode(sentences, truncate_dim=256)"
   ]
  },
  {
   "cell_type": "code",
   "execution_count": 24,
   "id": "ddf394cc",
   "metadata": {},
   "outputs": [
    {
     "name": "stdout",
     "output_type": "stream",
     "text": [
      "[ 4.42426128e-04 -2.67839897e-03 -1.21396393e-01  5.50731048e-02\n",
      "  2.44113058e-02  7.12781027e-03  1.06301799e-01  1.07934270e-02\n",
      "  3.12141590e-02  2.52740756e-02 -7.32876593e-03 -6.14363328e-03\n",
      "  5.39900623e-02  2.39978712e-02 -7.74326101e-02  2.35557500e-02\n",
      "  2.51668133e-02 -1.96987819e-02 -8.90109017e-02 -1.33211002e-01\n",
      " -9.57247689e-02 -2.99107023e-02  1.14995325e-02 -1.52080758e-02\n",
      "  4.25480418e-02  2.59835385e-02 -4.92246114e-02  2.80392971e-02\n",
      " -1.07759591e-02 -9.09567252e-02 -3.36027294e-02  4.16831188e-02\n",
      "  4.59262058e-02  4.30101566e-02 -1.18869454e-01 -4.99327034e-02\n",
      " -1.70697726e-03  2.27496289e-02  5.66493236e-02 -2.36215442e-02\n",
      " -7.85092339e-02 -3.66949849e-02  2.46855002e-02  4.43073809e-02\n",
      "  8.64653010e-03 -4.34272643e-03 -5.75240962e-02  1.38068637e-02\n",
      " -3.65442559e-02  9.31437910e-02 -9.28350240e-02 -6.04986632e-03\n",
      " -4.69845496e-02  8.59004096e-04  6.37143999e-02  3.30860242e-02\n",
      " -6.27896115e-02 -7.10701942e-02 -7.96104968e-03  3.63842584e-02\n",
      "  1.85647160e-02 -5.09741716e-02 -4.00371440e-02  4.33815122e-02\n",
      "  2.51531638e-02  2.31993664e-02 -9.83568002e-03  9.31294188e-02\n",
      " -5.58398254e-02 -2.95358263e-02 -2.96633113e-02 -2.89060883e-02\n",
      " -6.43502697e-02 -1.42053673e-02  6.17118664e-02 -3.36177088e-02\n",
      " -1.19900014e-02  3.82856727e-02  1.18307017e-01 -8.20369050e-02\n",
      "  3.03028133e-02 -1.48374531e-02 -5.39892986e-02  9.96421650e-02\n",
      "  1.11883007e-01 -5.32496199e-02  4.69833016e-02  2.92247906e-02\n",
      " -5.26864789e-02 -2.75923442e-02 -1.65520515e-02  4.62953448e-02\n",
      "  4.36619595e-02  1.84746385e-02 -6.30038381e-02  2.30361875e-02\n",
      " -5.25742024e-02 -1.18907154e-01  9.17991251e-02  2.05862284e-01\n",
      " -2.18026899e-03  5.47716580e-02 -1.37750581e-02  7.22373789e-03\n",
      " -7.90800229e-02 -5.84142022e-02  1.67950764e-02  9.97682065e-02\n",
      " -3.69970314e-02  6.25479966e-02 -1.64657179e-02 -1.01987156e-03\n",
      " -1.31795546e-02 -5.61562413e-03  6.76927865e-02 -1.70749761e-02\n",
      " -2.86175888e-02  7.14316219e-02  1.11210598e-02  9.79211405e-02\n",
      "  4.99262358e-04  4.53691259e-02  1.00448783e-02  2.35442054e-02\n",
      "  3.64464968e-02  4.11301777e-02 -4.40407097e-02 -4.52193097e-33\n",
      "  1.16896583e-02 -5.15632294e-02 -1.45541588e-02  2.45875679e-02\n",
      " -4.05484326e-02  3.45520824e-02 -8.67380947e-02 -1.92534737e-02\n",
      " -3.64394113e-02  3.83136421e-02  6.00244617e-04  1.32413760e-01\n",
      " -3.13206948e-02  5.27863875e-02  1.49537802e-01  2.31319424e-02\n",
      "  1.11515140e-02  1.47834346e-01 -3.06283180e-02 -3.09034660e-02\n",
      "  1.91160999e-02 -4.97825705e-02  4.53443751e-02  5.17502613e-02\n",
      "  8.35019723e-02  1.71460751e-02 -1.69642866e-02  1.05171613e-02\n",
      " -1.50646875e-02  1.43292230e-02  9.05706361e-02  1.40013956e-02\n",
      " -5.80624528e-02 -1.28552737e-02  4.87677491e-04 -7.49578699e-02\n",
      "  8.68870225e-03 -2.25582216e-02  2.62594800e-02  1.79257970e-02\n",
      " -6.02601133e-02 -5.21903718e-03 -4.62729223e-02 -1.98164470e-02\n",
      " -1.09659158e-01  4.61088121e-02  2.47772764e-02 -1.71033181e-02\n",
      "  3.14017050e-02  2.36560274e-02 -3.61140594e-02 -3.57434936e-02\n",
      "  6.34159148e-02  2.10698247e-02  4.02361993e-03  9.97092128e-02\n",
      "  7.12657580e-03 -6.66201487e-02 -1.02055410e-03 -2.27955580e-02\n",
      " -3.00336257e-02  5.38243242e-02 -4.52390015e-02 -7.75585696e-02\n",
      "  2.34693401e-02  2.53567491e-02  2.42188890e-02  3.77771407e-02\n",
      "  6.08614981e-02  6.15459867e-02 -1.17377760e-02 -4.01459113e-02\n",
      "  5.22923097e-02  2.75685787e-02  1.65892148e-03 -3.54830921e-03\n",
      "  1.67785939e-02  7.23444894e-02 -5.29155247e-02 -1.40413204e-02\n",
      " -8.34142566e-02 -1.00613289e-01 -7.33280368e-03 -7.80587122e-02\n",
      " -1.01515381e-02  1.58129651e-02  2.79777460e-02  4.23556514e-04\n",
      " -2.85457131e-02  4.88382466e-02 -9.37104449e-02  3.82412039e-02\n",
      " -5.46197519e-02  2.85483580e-02 -5.95330149e-02  2.88919669e-33\n",
      " -1.32113501e-01  4.49981242e-02  1.36216525e-02  6.82761297e-02\n",
      "  2.53254306e-02 -2.25365162e-02  1.60929803e-02 -5.84707931e-02\n",
      "  8.34398046e-02  1.31075084e-02 -2.91948207e-02 -1.54229766e-02\n",
      " -2.66909562e-02  2.69607641e-02 -2.22424623e-02 -7.58281257e-03\n",
      "  3.28836329e-02 -9.88013297e-02 -7.12543279e-02  3.06507200e-02\n",
      " -8.25248212e-02 -2.14838628e-02 -5.37184626e-02 -1.02647245e-01\n",
      " -1.28733916e-02  6.94535002e-02 -1.21472413e-02 -8.58692378e-02\n",
      " -1.53590636e-02 -1.91008840e-02 -9.26269125e-03 -8.13556835e-02]\n"
     ]
    }
   ],
   "source": [
    "print(embeddings[1])"
   ]
  },
  {
   "cell_type": "code",
   "execution_count": 25,
   "id": "ba557597",
   "metadata": {},
   "outputs": [
    {
     "name": "stdout",
     "output_type": "stream",
     "text": [
      "[-2.47794706e-02  1.06600575e-01 -9.21595562e-03  2.59898119e-02\n",
      "  2.43012737e-02  6.00674264e-02  1.21322945e-01  1.04754157e-02\n",
      "  2.42955778e-02 -6.24484988e-03  2.61379145e-02  3.31644691e-03\n",
      "  1.05845658e-02  4.21719998e-02 -6.84271678e-02 -5.33345863e-02\n",
      " -2.30662264e-02 -7.71192387e-02 -6.40936345e-02 -9.33228806e-02\n",
      " -6.03700094e-02 -1.76499188e-02 -3.57985566e-03  3.11765764e-02\n",
      " -6.20838962e-02  4.52120826e-02 -8.79271794e-03  4.10643555e-02\n",
      "  5.93479462e-02 -5.73632792e-02  5.29178884e-03  2.06900053e-02\n",
      "  1.05506450e-01  1.36240898e-03 -3.90998907e-02  3.81299481e-02\n",
      "  2.83996854e-02  5.48750497e-02  4.01949361e-02 -8.00662616e-04\n",
      " -1.03962235e-01 -5.10799624e-02  1.74484327e-02  1.54943177e-02\n",
      " -8.15777667e-03 -4.90732603e-02 -2.50758193e-02 -7.37218070e-04\n",
      " -5.86415082e-02 -9.34640062e-04 -9.37773064e-02  3.58232036e-02\n",
      " -4.18707170e-02 -6.76025227e-02  2.26738714e-02  2.01921836e-02\n",
      " -2.64977515e-02 -6.46391660e-02  2.73014791e-02 -4.47301865e-02\n",
      "  1.05915457e-01  1.62368156e-02 -2.58273147e-02  8.62904117e-02\n",
      "  1.12988636e-01 -1.33384503e-02  3.20181400e-02  4.72768657e-02\n",
      " -2.24269181e-02  5.29932417e-02 -3.65315750e-02 -4.71811043e-04\n",
      " -4.48032506e-02  2.58307569e-02  1.62815209e-02 -6.89726248e-02\n",
      " -4.03229287e-03  6.01452738e-02  7.84715638e-02 -9.07190144e-02\n",
      "  2.81992331e-02 -7.02338964e-02 -4.12429422e-02  4.04508645e-03\n",
      "  2.57305242e-02 -2.65290798e-03  8.33008718e-03 -5.84064610e-02\n",
      " -4.05203402e-02  6.95051327e-02  6.84649858e-04  1.93271078e-02\n",
      " -8.61456711e-03  3.21240048e-03  7.38856476e-03 -4.00650501e-02\n",
      " -4.10486124e-02 -8.04720521e-02  8.91396105e-02  2.68321216e-01\n",
      " -2.94740889e-02  5.09666800e-02 -2.30135135e-02  7.17280013e-03\n",
      " -7.07869902e-02 -1.00742079e-01  3.18233967e-02 -6.64467663e-02\n",
      "  6.80386722e-02  8.64607468e-02  2.41340902e-02 -3.19243781e-02\n",
      " -1.24579109e-02  5.80268726e-02  9.83055010e-02 -8.90335292e-02\n",
      "  3.36043723e-02 -3.39962216e-03 -2.30586585e-02  2.56596748e-02\n",
      "  1.88763440e-02 -2.26674527e-02 -5.95839582e-02  6.44163135e-03\n",
      "  3.88870202e-02 -6.31736070e-02 -3.20113124e-03 -5.23198099e-33\n",
      " -7.23307803e-02 -1.33623824e-01 -3.59643474e-02  3.26697202e-03\n",
      " -5.60435094e-02 -1.12868119e-02 -4.21570502e-02 -9.16926786e-02\n",
      " -3.59355914e-03  1.11205935e-01 -1.24378996e-02  1.19734645e-01\n",
      " -2.79085170e-02 -6.84158970e-03  1.37294799e-01  1.18032936e-02\n",
      "  2.75971405e-02  6.68952838e-02 -6.20732233e-02 -1.44399609e-02\n",
      " -2.27503143e-02 -8.90039057e-02  6.38723224e-02  3.67011204e-02\n",
      "  8.57847836e-03 -6.61296472e-02  5.91965541e-02 -3.18762958e-02\n",
      " -6.88885972e-02  1.05005521e-02  8.02950468e-03  2.70235538e-02\n",
      " -3.89957242e-02  3.61039420e-03  2.45401654e-02 -9.45875049e-03\n",
      "  2.04649176e-02  8.70686898e-04  6.53772652e-02  1.53354621e-02\n",
      " -3.90519276e-02 -4.90985252e-02 -1.12999203e-02 -5.76119944e-02\n",
      " -1.81971653e-03  8.59427601e-02  1.17945680e-02  3.09825335e-02\n",
      "  4.29920629e-02  2.70227715e-02 -4.94844019e-02 -2.85868850e-02\n",
      " -5.45875877e-02  7.08259596e-03  2.64773816e-02  5.40836938e-02\n",
      " -4.56269532e-02  2.06416082e-02  1.51652331e-03  2.47402512e-03\n",
      "  2.03591492e-02  3.88119109e-02 -2.77044103e-02 -7.44004399e-02\n",
      " -1.97392032e-02 -1.14690466e-03 -4.43061069e-02 -1.20454300e-02\n",
      "  5.27104400e-02 -3.14087793e-02 -7.70082399e-02 -3.08245700e-02\n",
      "  6.01362847e-02  6.12279773e-03 -1.20835258e-02  1.63933299e-02\n",
      " -2.95354240e-02  5.82010411e-02 -2.59139854e-02  2.92480122e-02\n",
      " -7.27628842e-02 -3.43061760e-02  7.70136192e-02 -1.05151117e-01\n",
      " -1.21453693e-02 -4.73549664e-02  2.52514202e-02 -4.38650362e-02\n",
      " -2.67289393e-02  1.23221334e-02 -1.26180634e-01  2.51970924e-02\n",
      " -1.92888584e-02  4.44137380e-02  1.86983384e-02  2.41790519e-33\n",
      " -9.41987261e-02  4.71380167e-02 -4.23741154e-02  5.74030578e-02\n",
      "  3.62840407e-02  2.26566698e-02  6.67087827e-03 -2.90663354e-02\n",
      "  3.41460146e-02  6.62531704e-02  2.69439053e-02 -9.86688863e-03\n",
      "  3.91037725e-02  1.70993321e-02 -4.15229723e-02 -1.76539775e-02\n",
      "  4.16092239e-02 -9.55599919e-02 -1.75584704e-02  6.16329201e-02\n",
      " -4.70891967e-02  1.41952047e-03  2.57480983e-02 -3.22662294e-02\n",
      " -5.49921989e-02  6.71305135e-02 -2.09340872e-03 -4.64737117e-02\n",
      " -2.61274353e-02 -5.30518219e-02  2.00627316e-02 -3.20550501e-02]\n"
     ]
    }
   ],
   "source": [
    "print(embeddings[0])"
   ]
  },
  {
   "cell_type": "code",
   "execution_count": 26,
   "id": "e626026f",
   "metadata": {},
   "outputs": [],
   "source": [
    "truncate_dimension = 512\n",
    "trainDataEmbeddings = model.encode(trainData.X.values, truncate_dim=truncate_dimension)\n",
    "testDataEmbeddings = model.encode(testData.X.values,truncate_dim=truncate_dimension)"
   ]
  },
  {
   "cell_type": "code",
   "execution_count": 27,
   "id": "8e816f77",
   "metadata": {},
   "outputs": [
    {
     "data": {
      "text/plain": [
       "array([[-0.03023622, -0.01638035,  0.05650844, ..., -0.08903001,\n",
       "        -0.0186766 ,  0.01298011],\n",
       "       [-0.05754432, -0.01425981, -0.01090349, ..., -0.01395191,\n",
       "        -0.00199279,  0.03913176],\n",
       "       [-0.00520335, -0.12808992,  0.00300854, ..., -0.10959245,\n",
       "        -0.04621904,  0.05808084],\n",
       "       ...,\n",
       "       [-0.03644965, -0.09113055,  0.00557136, ...,  0.00345933,\n",
       "        -0.07428187, -0.05459164],\n",
       "       [-0.11255559, -0.04520923, -0.04372989, ..., -0.02943627,\n",
       "         0.02984567, -0.03127494],\n",
       "       [-0.04854826, -0.05845277, -0.03698842, ...,  0.01707738,\n",
       "         0.06906448, -0.12362056]], dtype=float32)"
      ]
     },
     "execution_count": 27,
     "metadata": {},
     "output_type": "execute_result"
    }
   ],
   "source": [
    "trainDataEmbeddings"
   ]
  },
  {
   "cell_type": "code",
   "execution_count": 28,
   "id": "d53d31f0",
   "metadata": {},
   "outputs": [],
   "source": [
    "trainLabelsDataEmbeddings = trainData.y.map( {'positive': 1, 'negative': 0} )\n",
    "testLabelsDataEmbeddings = testData.y.map( {'positive': 1, 'negative': 0} )"
   ]
  },
  {
   "cell_type": "code",
   "execution_count": 29,
   "id": "68911e12",
   "metadata": {},
   "outputs": [
    {
     "data": {
      "text/plain": [
       "34129    1\n",
       "9393     0\n",
       "19705    1\n",
       "18318    1\n",
       "15029    1\n",
       "        ..\n",
       "15009    1\n",
       "11173    1\n",
       "49421    0\n",
       "49677    1\n",
       "38456    0\n",
       "Name: sentiment, Length: 750, dtype: int64"
      ]
     },
     "execution_count": 29,
     "metadata": {},
     "output_type": "execute_result"
    }
   ],
   "source": [
    "trainLabelsDataEmbeddings"
   ]
  },
  {
   "cell_type": "markdown",
   "id": "7115b531",
   "metadata": {},
   "source": []
  },
  {
   "cell_type": "code",
   "execution_count": 30,
   "id": "630ffa65",
   "metadata": {},
   "outputs": [],
   "source": [
    "from sklearn import linear_model"
   ]
  },
  {
   "cell_type": "code",
   "execution_count": 31,
   "id": "823d6fab",
   "metadata": {},
   "outputs": [
    {
     "data": {
      "text/html": [
       "<style>#sk-container-id-1 {\n",
       "  /* Definition of color scheme common for light and dark mode */\n",
       "  --sklearn-color-text: #000;\n",
       "  --sklearn-color-text-muted: #666;\n",
       "  --sklearn-color-line: gray;\n",
       "  /* Definition of color scheme for unfitted estimators */\n",
       "  --sklearn-color-unfitted-level-0: #fff5e6;\n",
       "  --sklearn-color-unfitted-level-1: #f6e4d2;\n",
       "  --sklearn-color-unfitted-level-2: #ffe0b3;\n",
       "  --sklearn-color-unfitted-level-3: chocolate;\n",
       "  /* Definition of color scheme for fitted estimators */\n",
       "  --sklearn-color-fitted-level-0: #f0f8ff;\n",
       "  --sklearn-color-fitted-level-1: #d4ebff;\n",
       "  --sklearn-color-fitted-level-2: #b3dbfd;\n",
       "  --sklearn-color-fitted-level-3: cornflowerblue;\n",
       "\n",
       "  /* Specific color for light theme */\n",
       "  --sklearn-color-text-on-default-background: var(--sg-text-color, var(--theme-code-foreground, var(--jp-content-font-color1, black)));\n",
       "  --sklearn-color-background: var(--sg-background-color, var(--theme-background, var(--jp-layout-color0, white)));\n",
       "  --sklearn-color-border-box: var(--sg-text-color, var(--theme-code-foreground, var(--jp-content-font-color1, black)));\n",
       "  --sklearn-color-icon: #696969;\n",
       "\n",
       "  @media (prefers-color-scheme: dark) {\n",
       "    /* Redefinition of color scheme for dark theme */\n",
       "    --sklearn-color-text-on-default-background: var(--sg-text-color, var(--theme-code-foreground, var(--jp-content-font-color1, white)));\n",
       "    --sklearn-color-background: var(--sg-background-color, var(--theme-background, var(--jp-layout-color0, #111)));\n",
       "    --sklearn-color-border-box: var(--sg-text-color, var(--theme-code-foreground, var(--jp-content-font-color1, white)));\n",
       "    --sklearn-color-icon: #878787;\n",
       "  }\n",
       "}\n",
       "\n",
       "#sk-container-id-1 {\n",
       "  color: var(--sklearn-color-text);\n",
       "}\n",
       "\n",
       "#sk-container-id-1 pre {\n",
       "  padding: 0;\n",
       "}\n",
       "\n",
       "#sk-container-id-1 input.sk-hidden--visually {\n",
       "  border: 0;\n",
       "  clip: rect(1px 1px 1px 1px);\n",
       "  clip: rect(1px, 1px, 1px, 1px);\n",
       "  height: 1px;\n",
       "  margin: -1px;\n",
       "  overflow: hidden;\n",
       "  padding: 0;\n",
       "  position: absolute;\n",
       "  width: 1px;\n",
       "}\n",
       "\n",
       "#sk-container-id-1 div.sk-dashed-wrapped {\n",
       "  border: 1px dashed var(--sklearn-color-line);\n",
       "  margin: 0 0.4em 0.5em 0.4em;\n",
       "  box-sizing: border-box;\n",
       "  padding-bottom: 0.4em;\n",
       "  background-color: var(--sklearn-color-background);\n",
       "}\n",
       "\n",
       "#sk-container-id-1 div.sk-container {\n",
       "  /* jupyter's `normalize.less` sets `[hidden] { display: none; }`\n",
       "     but bootstrap.min.css set `[hidden] { display: none !important; }`\n",
       "     so we also need the `!important` here to be able to override the\n",
       "     default hidden behavior on the sphinx rendered scikit-learn.org.\n",
       "     See: https://github.com/scikit-learn/scikit-learn/issues/21755 */\n",
       "  display: inline-block !important;\n",
       "  position: relative;\n",
       "}\n",
       "\n",
       "#sk-container-id-1 div.sk-text-repr-fallback {\n",
       "  display: none;\n",
       "}\n",
       "\n",
       "div.sk-parallel-item,\n",
       "div.sk-serial,\n",
       "div.sk-item {\n",
       "  /* draw centered vertical line to link estimators */\n",
       "  background-image: linear-gradient(var(--sklearn-color-text-on-default-background), var(--sklearn-color-text-on-default-background));\n",
       "  background-size: 2px 100%;\n",
       "  background-repeat: no-repeat;\n",
       "  background-position: center center;\n",
       "}\n",
       "\n",
       "/* Parallel-specific style estimator block */\n",
       "\n",
       "#sk-container-id-1 div.sk-parallel-item::after {\n",
       "  content: \"\";\n",
       "  width: 100%;\n",
       "  border-bottom: 2px solid var(--sklearn-color-text-on-default-background);\n",
       "  flex-grow: 1;\n",
       "}\n",
       "\n",
       "#sk-container-id-1 div.sk-parallel {\n",
       "  display: flex;\n",
       "  align-items: stretch;\n",
       "  justify-content: center;\n",
       "  background-color: var(--sklearn-color-background);\n",
       "  position: relative;\n",
       "}\n",
       "\n",
       "#sk-container-id-1 div.sk-parallel-item {\n",
       "  display: flex;\n",
       "  flex-direction: column;\n",
       "}\n",
       "\n",
       "#sk-container-id-1 div.sk-parallel-item:first-child::after {\n",
       "  align-self: flex-end;\n",
       "  width: 50%;\n",
       "}\n",
       "\n",
       "#sk-container-id-1 div.sk-parallel-item:last-child::after {\n",
       "  align-self: flex-start;\n",
       "  width: 50%;\n",
       "}\n",
       "\n",
       "#sk-container-id-1 div.sk-parallel-item:only-child::after {\n",
       "  width: 0;\n",
       "}\n",
       "\n",
       "/* Serial-specific style estimator block */\n",
       "\n",
       "#sk-container-id-1 div.sk-serial {\n",
       "  display: flex;\n",
       "  flex-direction: column;\n",
       "  align-items: center;\n",
       "  background-color: var(--sklearn-color-background);\n",
       "  padding-right: 1em;\n",
       "  padding-left: 1em;\n",
       "}\n",
       "\n",
       "\n",
       "/* Toggleable style: style used for estimator/Pipeline/ColumnTransformer box that is\n",
       "clickable and can be expanded/collapsed.\n",
       "- Pipeline and ColumnTransformer use this feature and define the default style\n",
       "- Estimators will overwrite some part of the style using the `sk-estimator` class\n",
       "*/\n",
       "\n",
       "/* Pipeline and ColumnTransformer style (default) */\n",
       "\n",
       "#sk-container-id-1 div.sk-toggleable {\n",
       "  /* Default theme specific background. It is overwritten whether we have a\n",
       "  specific estimator or a Pipeline/ColumnTransformer */\n",
       "  background-color: var(--sklearn-color-background);\n",
       "}\n",
       "\n",
       "/* Toggleable label */\n",
       "#sk-container-id-1 label.sk-toggleable__label {\n",
       "  cursor: pointer;\n",
       "  display: flex;\n",
       "  width: 100%;\n",
       "  margin-bottom: 0;\n",
       "  padding: 0.5em;\n",
       "  box-sizing: border-box;\n",
       "  text-align: center;\n",
       "  align-items: start;\n",
       "  justify-content: space-between;\n",
       "  gap: 0.5em;\n",
       "}\n",
       "\n",
       "#sk-container-id-1 label.sk-toggleable__label .caption {\n",
       "  font-size: 0.6rem;\n",
       "  font-weight: lighter;\n",
       "  color: var(--sklearn-color-text-muted);\n",
       "}\n",
       "\n",
       "#sk-container-id-1 label.sk-toggleable__label-arrow:before {\n",
       "  /* Arrow on the left of the label */\n",
       "  content: \"▸\";\n",
       "  float: left;\n",
       "  margin-right: 0.25em;\n",
       "  color: var(--sklearn-color-icon);\n",
       "}\n",
       "\n",
       "#sk-container-id-1 label.sk-toggleable__label-arrow:hover:before {\n",
       "  color: var(--sklearn-color-text);\n",
       "}\n",
       "\n",
       "/* Toggleable content - dropdown */\n",
       "\n",
       "#sk-container-id-1 div.sk-toggleable__content {\n",
       "  max-height: 0;\n",
       "  max-width: 0;\n",
       "  overflow: hidden;\n",
       "  text-align: left;\n",
       "  /* unfitted */\n",
       "  background-color: var(--sklearn-color-unfitted-level-0);\n",
       "}\n",
       "\n",
       "#sk-container-id-1 div.sk-toggleable__content.fitted {\n",
       "  /* fitted */\n",
       "  background-color: var(--sklearn-color-fitted-level-0);\n",
       "}\n",
       "\n",
       "#sk-container-id-1 div.sk-toggleable__content pre {\n",
       "  margin: 0.2em;\n",
       "  border-radius: 0.25em;\n",
       "  color: var(--sklearn-color-text);\n",
       "  /* unfitted */\n",
       "  background-color: var(--sklearn-color-unfitted-level-0);\n",
       "}\n",
       "\n",
       "#sk-container-id-1 div.sk-toggleable__content.fitted pre {\n",
       "  /* unfitted */\n",
       "  background-color: var(--sklearn-color-fitted-level-0);\n",
       "}\n",
       "\n",
       "#sk-container-id-1 input.sk-toggleable__control:checked~div.sk-toggleable__content {\n",
       "  /* Expand drop-down */\n",
       "  max-height: 200px;\n",
       "  max-width: 100%;\n",
       "  overflow: auto;\n",
       "}\n",
       "\n",
       "#sk-container-id-1 input.sk-toggleable__control:checked~label.sk-toggleable__label-arrow:before {\n",
       "  content: \"▾\";\n",
       "}\n",
       "\n",
       "/* Pipeline/ColumnTransformer-specific style */\n",
       "\n",
       "#sk-container-id-1 div.sk-label input.sk-toggleable__control:checked~label.sk-toggleable__label {\n",
       "  color: var(--sklearn-color-text);\n",
       "  background-color: var(--sklearn-color-unfitted-level-2);\n",
       "}\n",
       "\n",
       "#sk-container-id-1 div.sk-label.fitted input.sk-toggleable__control:checked~label.sk-toggleable__label {\n",
       "  background-color: var(--sklearn-color-fitted-level-2);\n",
       "}\n",
       "\n",
       "/* Estimator-specific style */\n",
       "\n",
       "/* Colorize estimator box */\n",
       "#sk-container-id-1 div.sk-estimator input.sk-toggleable__control:checked~label.sk-toggleable__label {\n",
       "  /* unfitted */\n",
       "  background-color: var(--sklearn-color-unfitted-level-2);\n",
       "}\n",
       "\n",
       "#sk-container-id-1 div.sk-estimator.fitted input.sk-toggleable__control:checked~label.sk-toggleable__label {\n",
       "  /* fitted */\n",
       "  background-color: var(--sklearn-color-fitted-level-2);\n",
       "}\n",
       "\n",
       "#sk-container-id-1 div.sk-label label.sk-toggleable__label,\n",
       "#sk-container-id-1 div.sk-label label {\n",
       "  /* The background is the default theme color */\n",
       "  color: var(--sklearn-color-text-on-default-background);\n",
       "}\n",
       "\n",
       "/* On hover, darken the color of the background */\n",
       "#sk-container-id-1 div.sk-label:hover label.sk-toggleable__label {\n",
       "  color: var(--sklearn-color-text);\n",
       "  background-color: var(--sklearn-color-unfitted-level-2);\n",
       "}\n",
       "\n",
       "/* Label box, darken color on hover, fitted */\n",
       "#sk-container-id-1 div.sk-label.fitted:hover label.sk-toggleable__label.fitted {\n",
       "  color: var(--sklearn-color-text);\n",
       "  background-color: var(--sklearn-color-fitted-level-2);\n",
       "}\n",
       "\n",
       "/* Estimator label */\n",
       "\n",
       "#sk-container-id-1 div.sk-label label {\n",
       "  font-family: monospace;\n",
       "  font-weight: bold;\n",
       "  display: inline-block;\n",
       "  line-height: 1.2em;\n",
       "}\n",
       "\n",
       "#sk-container-id-1 div.sk-label-container {\n",
       "  text-align: center;\n",
       "}\n",
       "\n",
       "/* Estimator-specific */\n",
       "#sk-container-id-1 div.sk-estimator {\n",
       "  font-family: monospace;\n",
       "  border: 1px dotted var(--sklearn-color-border-box);\n",
       "  border-radius: 0.25em;\n",
       "  box-sizing: border-box;\n",
       "  margin-bottom: 0.5em;\n",
       "  /* unfitted */\n",
       "  background-color: var(--sklearn-color-unfitted-level-0);\n",
       "}\n",
       "\n",
       "#sk-container-id-1 div.sk-estimator.fitted {\n",
       "  /* fitted */\n",
       "  background-color: var(--sklearn-color-fitted-level-0);\n",
       "}\n",
       "\n",
       "/* on hover */\n",
       "#sk-container-id-1 div.sk-estimator:hover {\n",
       "  /* unfitted */\n",
       "  background-color: var(--sklearn-color-unfitted-level-2);\n",
       "}\n",
       "\n",
       "#sk-container-id-1 div.sk-estimator.fitted:hover {\n",
       "  /* fitted */\n",
       "  background-color: var(--sklearn-color-fitted-level-2);\n",
       "}\n",
       "\n",
       "/* Specification for estimator info (e.g. \"i\" and \"?\") */\n",
       "\n",
       "/* Common style for \"i\" and \"?\" */\n",
       "\n",
       ".sk-estimator-doc-link,\n",
       "a:link.sk-estimator-doc-link,\n",
       "a:visited.sk-estimator-doc-link {\n",
       "  float: right;\n",
       "  font-size: smaller;\n",
       "  line-height: 1em;\n",
       "  font-family: monospace;\n",
       "  background-color: var(--sklearn-color-background);\n",
       "  border-radius: 1em;\n",
       "  height: 1em;\n",
       "  width: 1em;\n",
       "  text-decoration: none !important;\n",
       "  margin-left: 0.5em;\n",
       "  text-align: center;\n",
       "  /* unfitted */\n",
       "  border: var(--sklearn-color-unfitted-level-1) 1pt solid;\n",
       "  color: var(--sklearn-color-unfitted-level-1);\n",
       "}\n",
       "\n",
       ".sk-estimator-doc-link.fitted,\n",
       "a:link.sk-estimator-doc-link.fitted,\n",
       "a:visited.sk-estimator-doc-link.fitted {\n",
       "  /* fitted */\n",
       "  border: var(--sklearn-color-fitted-level-1) 1pt solid;\n",
       "  color: var(--sklearn-color-fitted-level-1);\n",
       "}\n",
       "\n",
       "/* On hover */\n",
       "div.sk-estimator:hover .sk-estimator-doc-link:hover,\n",
       ".sk-estimator-doc-link:hover,\n",
       "div.sk-label-container:hover .sk-estimator-doc-link:hover,\n",
       ".sk-estimator-doc-link:hover {\n",
       "  /* unfitted */\n",
       "  background-color: var(--sklearn-color-unfitted-level-3);\n",
       "  color: var(--sklearn-color-background);\n",
       "  text-decoration: none;\n",
       "}\n",
       "\n",
       "div.sk-estimator.fitted:hover .sk-estimator-doc-link.fitted:hover,\n",
       ".sk-estimator-doc-link.fitted:hover,\n",
       "div.sk-label-container:hover .sk-estimator-doc-link.fitted:hover,\n",
       ".sk-estimator-doc-link.fitted:hover {\n",
       "  /* fitted */\n",
       "  background-color: var(--sklearn-color-fitted-level-3);\n",
       "  color: var(--sklearn-color-background);\n",
       "  text-decoration: none;\n",
       "}\n",
       "\n",
       "/* Span, style for the box shown on hovering the info icon */\n",
       ".sk-estimator-doc-link span {\n",
       "  display: none;\n",
       "  z-index: 9999;\n",
       "  position: relative;\n",
       "  font-weight: normal;\n",
       "  right: .2ex;\n",
       "  padding: .5ex;\n",
       "  margin: .5ex;\n",
       "  width: min-content;\n",
       "  min-width: 20ex;\n",
       "  max-width: 50ex;\n",
       "  color: var(--sklearn-color-text);\n",
       "  box-shadow: 2pt 2pt 4pt #999;\n",
       "  /* unfitted */\n",
       "  background: var(--sklearn-color-unfitted-level-0);\n",
       "  border: .5pt solid var(--sklearn-color-unfitted-level-3);\n",
       "}\n",
       "\n",
       ".sk-estimator-doc-link.fitted span {\n",
       "  /* fitted */\n",
       "  background: var(--sklearn-color-fitted-level-0);\n",
       "  border: var(--sklearn-color-fitted-level-3);\n",
       "}\n",
       "\n",
       ".sk-estimator-doc-link:hover span {\n",
       "  display: block;\n",
       "}\n",
       "\n",
       "/* \"?\"-specific style due to the `<a>` HTML tag */\n",
       "\n",
       "#sk-container-id-1 a.estimator_doc_link {\n",
       "  float: right;\n",
       "  font-size: 1rem;\n",
       "  line-height: 1em;\n",
       "  font-family: monospace;\n",
       "  background-color: var(--sklearn-color-background);\n",
       "  border-radius: 1rem;\n",
       "  height: 1rem;\n",
       "  width: 1rem;\n",
       "  text-decoration: none;\n",
       "  /* unfitted */\n",
       "  color: var(--sklearn-color-unfitted-level-1);\n",
       "  border: var(--sklearn-color-unfitted-level-1) 1pt solid;\n",
       "}\n",
       "\n",
       "#sk-container-id-1 a.estimator_doc_link.fitted {\n",
       "  /* fitted */\n",
       "  border: var(--sklearn-color-fitted-level-1) 1pt solid;\n",
       "  color: var(--sklearn-color-fitted-level-1);\n",
       "}\n",
       "\n",
       "/* On hover */\n",
       "#sk-container-id-1 a.estimator_doc_link:hover {\n",
       "  /* unfitted */\n",
       "  background-color: var(--sklearn-color-unfitted-level-3);\n",
       "  color: var(--sklearn-color-background);\n",
       "  text-decoration: none;\n",
       "}\n",
       "\n",
       "#sk-container-id-1 a.estimator_doc_link.fitted:hover {\n",
       "  /* fitted */\n",
       "  background-color: var(--sklearn-color-fitted-level-3);\n",
       "}\n",
       "</style><div id=\"sk-container-id-1\" class=\"sk-top-container\"><div class=\"sk-text-repr-fallback\"><pre>LinearRegression()</pre><b>In a Jupyter environment, please rerun this cell to show the HTML representation or trust the notebook. <br />On GitHub, the HTML representation is unable to render, please try loading this page with nbviewer.org.</b></div><div class=\"sk-container\" hidden><div class=\"sk-item\"><div class=\"sk-estimator fitted sk-toggleable\"><input class=\"sk-toggleable__control sk-hidden--visually\" id=\"sk-estimator-id-1\" type=\"checkbox\" checked><label for=\"sk-estimator-id-1\" class=\"sk-toggleable__label fitted sk-toggleable__label-arrow\"><div><div>LinearRegression</div></div><div><a class=\"sk-estimator-doc-link fitted\" rel=\"noreferrer\" target=\"_blank\" href=\"https://scikit-learn.org/1.6/modules/generated/sklearn.linear_model.LinearRegression.html\">?<span>Documentation for LinearRegression</span></a><span class=\"sk-estimator-doc-link fitted\">i<span>Fitted</span></span></div></label><div class=\"sk-toggleable__content fitted\"><pre>LinearRegression()</pre></div> </div></div></div></div>"
      ],
      "text/plain": [
       "LinearRegression()"
      ]
     },
     "execution_count": 31,
     "metadata": {},
     "output_type": "execute_result"
    }
   ],
   "source": [
    "logisticRegressionModel = linear_model.LinearRegression()\n",
    "logisticRegressionModel.fit(trainDataEmbeddings, trainLabelsDataEmbeddings)"
   ]
  },
  {
   "cell_type": "code",
   "execution_count": 32,
   "id": "a89d2687",
   "metadata": {},
   "outputs": [],
   "source": [
    "y_preds = logisticRegressionModel.predict(testDataEmbeddings)"
   ]
  },
  {
   "cell_type": "code",
   "execution_count": 33,
   "id": "5296acbd",
   "metadata": {},
   "outputs": [
    {
     "data": {
      "text/plain": [
       "array([ 0.9233736 ,  0.05817711,  0.5922215 ,  0.6205492 , -0.12103254,\n",
       "        0.8405889 ,  0.56850207,  0.7392961 ,  0.57711273,  0.03185117,\n",
       "        1.5534537 ,  0.45630068,  0.84308016,  1.1487162 ,  0.08956188,\n",
       "        0.28719002,  0.06151575,  0.94968534, -0.62067175,  1.4452394 ,\n",
       "        0.89057046,  0.05628693, -0.21592939,  1.0280865 ,  0.24802941,\n",
       "        0.6786978 ,  1.5904233 , -0.20428729,  1.1335784 , -0.06333637,\n",
       "        1.3798734 ,  0.35815126,  0.39992166,  0.950968  , -0.01893866,\n",
       "        0.25005507, -0.6076677 ,  0.6505565 ,  0.8035354 ,  0.38462466,\n",
       "        0.49749887,  0.7699418 ,  0.41789943,  1.0624156 ,  0.53524923,\n",
       "        0.48637933,  0.46622622,  1.1178416 ,  0.15254712,  0.28828263,\n",
       "        0.8436527 ,  0.16662967,  0.61901295,  0.860125  ,  0.80754316,\n",
       "        1.2922199 ,  0.45474905,  1.1129657 , -0.34785366,  1.0609362 ,\n",
       "       -0.0940094 , -0.42701447,  0.31907558,  0.64739704,  1.4667915 ,\n",
       "        0.27336496, -0.0051775 ,  1.0022252 ,  0.8940611 ,  0.9805237 ,\n",
       "        0.15521252,  0.6588657 , -0.37492597,  0.809522  ,  0.9747206 ,\n",
       "        0.70245224,  0.49267104,  0.3241042 ,  0.8023383 ,  0.12901533,\n",
       "        0.09444284,  0.41183156,  0.6243799 ,  0.6144731 ,  0.12906575,\n",
       "       -0.04952502,  0.6167741 , -0.5075369 ,  0.7665633 ,  0.59983706,\n",
       "        0.50472486,  0.33290452,  0.28439975, -0.05431426,  1.0942397 ,\n",
       "       -0.19830894,  1.4940202 ,  0.6017134 , -0.13807404, -0.17204863,\n",
       "        0.63088   , -0.03157431,  0.7648695 , -0.17532408,  0.555991  ,\n",
       "        0.27218688,  0.23064518,  0.87815535,  0.8123824 ,  0.9923528 ,\n",
       "        0.9494878 ,  0.13648224,  0.7059815 ,  0.1310429 , -0.10762656,\n",
       "        0.626552  ,  0.43264773,  0.64996964,  0.5686727 ,  0.47812524,\n",
       "        0.93737125,  0.96951246,  0.7163701 ,  0.6776434 ,  1.0981    ,\n",
       "        0.4897318 ,  0.6536553 ,  1.6221783 , -0.21385002, -0.2963748 ,\n",
       "        1.2567523 ,  0.26146173,  1.4963784 ,  0.54182285,  0.34971488,\n",
       "        1.5911722 ,  0.7588876 ,  0.21067548,  0.87604225, -0.54119587,\n",
       "        0.13396037,  0.35446513,  0.7082486 ,  0.63893104,  0.8842209 ,\n",
       "        0.10294902,  0.8399935 ,  0.90142167,  1.0296774 ,  1.0783317 ,\n",
       "        0.70649695,  1.2810327 , -0.11469871,  0.44684857, -0.00941116,\n",
       "        1.0772578 ,  0.38509786, -0.01228571,  0.40635675,  0.38850465,\n",
       "        0.19291347,  0.3608267 ,  0.22896934,  0.9133616 ,  1.0416832 ,\n",
       "        0.3587892 , -0.35162592,  0.12223232,  0.914668  ,  0.76230824,\n",
       "       -0.38230956, -0.20345438,  0.2437098 ,  0.20700353,  1.1694068 ,\n",
       "        0.23417294,  0.6331201 ,  0.10544086,  0.5246656 ,  0.49557763,\n",
       "        0.43963635,  1.1293392 ,  0.64387566,  1.19507   ,  0.91449076,\n",
       "        0.9960729 ,  0.08050954,  1.4484944 ,  0.89708436,  1.9276814 ,\n",
       "        0.61601865,  0.10667872,  0.43198067,  0.27135003,  0.6351063 ,\n",
       "        0.305484  ,  0.9522371 ,  0.5045788 ,  0.47190824,  0.28621012,\n",
       "        0.10464108,  0.7182055 , -0.02465153,  0.61751664,  0.55551934,\n",
       "        0.16835737,  1.230891  ,  1.394238  ,  1.3682243 ,  0.26804352,\n",
       "        0.99679506,  0.92817044, -0.0163942 ,  0.7899676 ,  0.64402163,\n",
       "        0.19559199,  1.1025112 ,  0.23420978,  0.63902295,  1.0063591 ,\n",
       "        0.5767225 ,  0.68469375, -0.04262894,  1.1423006 ,  0.03200513,\n",
       "        0.5744411 ,  0.06619048,  1.3862472 ,  0.2880296 , -0.0422433 ,\n",
       "        0.30778676,  0.5092996 ,  1.4909883 ,  1.4166708 ,  0.99405485,\n",
       "        0.21642876,  0.29195833, -0.25267208,  0.75171095,  0.71328884,\n",
       "        0.0203104 ,  0.47055024, -0.11057532,  1.4740108 ,  0.6956296 ,\n",
       "        0.7180881 , -0.28840113, -0.10410786,  0.5315054 ,  1.2577987 ],\n",
       "      dtype=float32)"
      ]
     },
     "execution_count": 33,
     "metadata": {},
     "output_type": "execute_result"
    }
   ],
   "source": [
    "y_preds"
   ]
  },
  {
   "cell_type": "code",
   "execution_count": 34,
   "id": "c677d2cc",
   "metadata": {},
   "outputs": [
    {
     "data": {
      "text/plain": [
       "array([1., 0., 1., 1., 0., 1., 1., 1., 1., 0., 1., 0., 1., 1., 0., 0., 0.,\n",
       "       1., 0., 1., 1., 0., 0., 1., 0., 1., 1., 0., 1., 0., 1., 0., 0., 1.,\n",
       "       0., 0., 0., 1., 1., 0., 0., 1., 0., 1., 1., 0., 0., 1., 0., 0., 1.,\n",
       "       0., 1., 1., 1., 1., 0., 1., 0., 1., 0., 0., 0., 1., 1., 0., 0., 1.,\n",
       "       1., 1., 0., 1., 0., 1., 1., 1., 0., 0., 1., 0., 0., 0., 1., 1., 0.,\n",
       "       0., 1., 0., 1., 1., 1., 0., 0., 0., 1., 0., 1., 1., 0., 0., 1., 0.,\n",
       "       1., 0., 1., 0., 0., 1., 1., 1., 1., 0., 1., 0., 0., 1., 0., 1., 1.,\n",
       "       0., 1., 1., 1., 1., 1., 0., 1., 1., 0., 0., 1., 0., 1., 1., 0., 1.,\n",
       "       1., 0., 1., 0., 0., 0., 1., 1., 1., 0., 1., 1., 1., 1., 1., 1., 0.,\n",
       "       0., 0., 1., 0., 0., 0., 0., 0., 0., 0., 1., 1., 0., 0., 0., 1., 1.,\n",
       "       0., 0., 0., 0., 1., 0., 1., 0., 1., 0., 0., 1., 1., 1., 1., 1., 0.,\n",
       "       1., 1., 1., 1., 0., 0., 0., 1., 0., 1., 1., 0., 0., 0., 1., 0., 1.,\n",
       "       1., 0., 1., 1., 1., 0., 1., 1., 0., 1., 1., 0., 1., 0., 1., 1., 1.,\n",
       "       1., 0., 1., 0., 1., 0., 1., 0., 0., 0., 1., 1., 1., 1., 0., 0., 0.,\n",
       "       1., 1., 0., 0., 0., 1., 1., 1., 0., 0., 1., 1.], dtype=float32)"
      ]
     },
     "execution_count": 34,
     "metadata": {},
     "output_type": "execute_result"
    }
   ],
   "source": [
    "for i in range(0, len(y_preds)):\n",
    "    y_preds[i] = 1 if y_preds[i] >= 0.5 else 0\n",
    "y_preds"
   ]
  },
  {
   "cell_type": "code",
   "execution_count": 35,
   "id": "60602a35",
   "metadata": {},
   "outputs": [],
   "source": [
    "from sklearn import metrics"
   ]
  },
  {
   "cell_type": "code",
   "execution_count": 36,
   "id": "70fa5c4f",
   "metadata": {},
   "outputs": [
    {
     "name": "stdout",
     "output_type": "stream",
     "text": [
      "classification report: \n",
      "              precision    recall  f1-score   support\n",
      "\n",
      "           0       0.71      0.65      0.68       128\n",
      "           1       0.66      0.72      0.69       122\n",
      "\n",
      "    accuracy                           0.68       250\n",
      "   macro avg       0.69      0.68      0.68       250\n",
      "weighted avg       0.69      0.68      0.68       250\n",
      "\n"
     ]
    }
   ],
   "source": [
    "print(f\"classification report: \\n{metrics.classification_report(testLabelsDataEmbeddings, y_preds)}\")"
   ]
  },
  {
   "cell_type": "code",
   "execution_count": null,
   "id": "cfeacfe5",
   "metadata": {},
   "outputs": [],
   "source": []
  },
  {
   "cell_type": "code",
   "execution_count": null,
   "id": "087171fd",
   "metadata": {},
   "outputs": [],
   "source": []
  }
 ],
 "metadata": {
  "kernelspec": {
   "display_name": "_env_04_SENTIMENT_ANALYSIS",
   "language": "python",
   "name": "python3"
  },
  "language_info": {
   "codemirror_mode": {
    "name": "ipython",
    "version": 3
   },
   "file_extension": ".py",
   "mimetype": "text/x-python",
   "name": "python",
   "nbconvert_exporter": "python",
   "pygments_lexer": "ipython3",
   "version": "3.9.22"
  }
 },
 "nbformat": 4,
 "nbformat_minor": 5
}
